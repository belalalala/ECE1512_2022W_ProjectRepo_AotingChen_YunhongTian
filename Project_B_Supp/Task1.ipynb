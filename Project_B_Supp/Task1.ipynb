{
 "cells": [
  {
   "cell_type": "markdown",
   "metadata": {
    "id": "6WYMfvCNPwpm"
   },
   "source": [
    "# Project B: Knowledge Distillation for Building Lightweight Deep Learning Models in Visual Classification Tasks"
   ]
  },
  {
   "cell_type": "code",
   "execution_count": 3,
   "metadata": {
    "id": "vA8ppgB2P0aJ"
   },
   "outputs": [],
   "source": [
    "import tensorflow.compat.v2 as tf\n",
    "import tensorflow_datasets as tfds\n",
    "from typing import Union\n",
    "\n",
    "tf.enable_v2_behavior()\n",
    "\n",
    "builder = tfds.builder('mnist')\n",
    "BATCH_SIZE = 256\n",
    "NUM_EPOCHS = 12\n",
    "NUM_CLASSES = 10  # 10 total classes."
   ]
  },
  {
   "cell_type": "code",
   "execution_count": 4,
   "metadata": {
    "id": "9cxw0PzE53Zk"
   },
   "outputs": [],
   "source": [
    "import keras\n",
    "from keras.models import Sequential\n",
    "from keras.layers import Conv2D, MaxPooling2D, Dense, Flatten, Dropout\n",
    "import numpy as np\n",
    "from keras.models import load_model\n",
    "from keras_flops import get_flops\n",
    "import keras.backend as K\n",
    "from scipy.ndimage.interpolation import zoom\n",
    "import matplotlib.pyplot as plt \n"
   ]
  },
  {
   "cell_type": "markdown",
   "metadata": {
    "id": "H2EFLQROP2R7"
   },
   "source": [
    "# Data loading"
   ]
  },
  {
   "cell_type": "code",
   "execution_count": 47,
   "metadata": {
    "colab": {
     "base_uri": "https://localhost:8080/",
     "height": 192,
     "referenced_widgets": [
      "403be929e9024411a153c32a8d9e7faa",
      "40bc4ccbe60443ce98c9d1abd0dcfea7",
      "a943481bd0e543e98336d234af4dd764",
      "7ebc9447af7a4dd4aaadb32491bb47eb",
      "3fc0ac74e6574800a761e017f6a096a6",
      "90b50d41596f42e2b5d347f349746c67",
      "b793841591f84ba2a70a8d592216e5bd",
      "9855b4675bcc4a0b93606d95022ebca2",
      "25012ac4cf7441f693687fa97e861e7f",
      "ade6bef4ba3b42f2af4cf92b536cae6b",
      "38022535a8ae4875ad8cb2ae43189284"
     ]
    },
    "id": "ynByMG_UP4A4",
    "outputId": "ae0810ce-be66-46bb-f6a4-3fbb49f64caa"
   },
   "outputs": [],
   "source": [
    "# Load train and test splits.\n",
    "def preprocess(x):\n",
    "  image = tf.image.convert_image_dtype(x['image'], tf.float32)\n",
    "  subclass_labels = tf.one_hot(x['label'], builder.info.features['label'].num_classes)\n",
    "  return image, subclass_labels\n",
    "\n",
    "\n",
    "mnist_train = tfds.load('mnist', split='train', shuffle_files=False).cache()\n",
    "mnist_train = mnist_train.map(preprocess)\n",
    "mnist_train = mnist_train.shuffle(builder.info.splits['train'].num_examples)\n",
    "mnist_train = mnist_train.batch(BATCH_SIZE, drop_remainder=True)\n",
    "\n",
    "mnist_test = tfds.load('mnist', split='test').cache()\n",
    "mnist_test = mnist_test.map(preprocess).batch(BATCH_SIZE)"
   ]
  },
  {
   "cell_type": "markdown",
   "metadata": {
    "id": "kAZwfvW5P63q"
   },
   "source": [
    "# Model creation"
   ]
  },
  {
   "cell_type": "code",
   "execution_count": 6,
   "metadata": {
    "colab": {
     "base_uri": "https://localhost:8080/"
    },
    "id": "g7xptSiA9hat",
    "outputId": "8e0fd5a4-5fda-4de6-c3b1-afc5eb773fc6"
   },
   "outputs": [
    {
     "data": {
      "text/plain": [
       "<BatchDataset element_spec=(TensorSpec(shape=(256, 28, 28, 1), dtype=tf.float32, name=None), TensorSpec(shape=(256, 10), dtype=tf.float32, name=None))>"
      ]
     },
     "execution_count": 6,
     "metadata": {},
     "output_type": "execute_result"
    }
   ],
   "source": [
    "mnist_train"
   ]
  },
  {
   "cell_type": "code",
   "execution_count": 7,
   "metadata": {
    "colab": {
     "base_uri": "https://localhost:8080/"
    },
    "id": "zINgDkA7P7BP",
    "outputId": "4bfe9c13-488c-43c0-fe17-15edf8b23660"
   },
   "outputs": [
    {
     "name": "stdout",
     "output_type": "stream",
     "text": [
      "teacher model summary\n",
      "Model: \"sequential\"\n",
      "_________________________________________________________________\n",
      " Layer (type)                Output Shape              Param #   \n",
      "=================================================================\n",
      " conv2d (Conv2D)             (None, 26, 26, 32)        320       \n",
      "                                                                 \n",
      " max_pooling2d (MaxPooling2D  (None, 26, 26, 32)       0         \n",
      " )                                                               \n",
      "                                                                 \n",
      " conv2d_1 (Conv2D)           (None, 24, 24, 64)        18496     \n",
      "                                                                 \n",
      " max_pooling2d_1 (MaxPooling  (None, 12, 12, 64)       0         \n",
      " 2D)                                                             \n",
      "                                                                 \n",
      " flatten (Flatten)           (None, 9216)              0         \n",
      "                                                                 \n",
      " dropout (Dropout)           (None, 9216)              0         \n",
      "                                                                 \n",
      " dense (Dense)               (None, 128)               1179776   \n",
      "                                                                 \n",
      " dropout_1 (Dropout)         (None, 128)               0         \n",
      "                                                                 \n",
      " dense_1 (Dense)             (None, 10)                1290      \n",
      "                                                                 \n",
      "=================================================================\n",
      "Total params: 1,199,882\n",
      "Trainable params: 1,199,882\n",
      "Non-trainable params: 0\n",
      "_________________________________________________________________\n",
      "None\n",
      "student model summary\n",
      "Model: \"sequential_1\"\n",
      "_________________________________________________________________\n",
      " Layer (type)                Output Shape              Param #   \n",
      "=================================================================\n",
      " flatten_1 (Flatten)         (None, 784)               0         \n",
      "                                                                 \n",
      " dense_2 (Dense)             (None, 784)               615440    \n",
      "                                                                 \n",
      " dense_3 (Dense)             (None, 784)               615440    \n",
      "                                                                 \n",
      " dense_4 (Dense)             (None, 10)                7850      \n",
      "                                                                 \n",
      "=================================================================\n",
      "Total params: 1,238,730\n",
      "Trainable params: 1,238,730\n",
      "Non-trainable params: 0\n",
      "_________________________________________________________________\n",
      "None\n"
     ]
    }
   ],
   "source": [
    "##@test {\"output\": \"ignore\"} \n",
    "\n",
    "# Build CNN teacher.\n",
    "# cnn_model\n",
    "teacher_model = tf.keras.Sequential()\n",
    "\n",
    "# your code start from here for stpe 2\n",
    "teacher_model.add(Conv2D(32, (3, 3), strides = (1, 1), activation='relu', input_shape=(28,28,1)))\n",
    "teacher_model.add(MaxPooling2D(pool_size=(2, 2), strides=(1, 1), padding='same'))\n",
    "teacher_model.add(Conv2D(64, (3, 3), strides = (1, 1), activation='relu'))\n",
    "teacher_model.add(MaxPooling2D(pool_size=(2, 2), strides=(2, 2), padding='same'))\n",
    "teacher_model.add(Flatten())\n",
    "teacher_model.add(Dropout(0.5))\n",
    "teacher_model.add(Dense(128, activation='relu'))\n",
    "teacher_model.add(Dropout(0.5))\n",
    "teacher_model.add(Dense(10))\n",
    "\n",
    "\n",
    "print('teacher model summary')\n",
    "print(teacher_model.summary())\n",
    "\n",
    "\n",
    "# Build fully connected student.\n",
    "# fc_model\n",
    "student_model = tf.keras.Sequential()\n",
    "\n",
    "\n",
    "# your code start from here for step 2\n",
    "student_model.add(tf.keras.Input(shape=(28,28,1)))\n",
    "student_model.add(Flatten())\n",
    "student_model.add(Dense(784, activation='relu'))\n",
    "student_model.add(Dense(784, activation='relu'))\n",
    "student_model.add(Dense(10))\n",
    "\n",
    "print('student model summary')\n",
    "print(student_model.summary())\n",
    "\n"
   ]
  },
  {
   "cell_type": "markdown",
   "metadata": {
    "id": "8JWGucyrQGav"
   },
   "source": [
    "# Teacher loss function\n",
    "Complete function compute teacher loss for loss (objective) function of the teacher model in the “Teacher loss function” section. Similarly, write your program in distillation loss and com- pute student loss functions to define the loss (objective) function of the student model."
   ]
  },
  {
   "cell_type": "code",
   "execution_count": 8,
   "metadata": {
    "id": "DhzBP6ZLQJ57"
   },
   "outputs": [],
   "source": [
    "@tf.function\n",
    "def compute_teacher_loss(images, labels):\n",
    "  \"\"\"Compute subclass knowledge distillation teacher loss for given images\n",
    "     and labels.\n",
    "\n",
    "  Args:\n",
    "    images: Tensor representing a batch of images.\n",
    "    labels: Tensor representing a batch of labels.\n",
    "\n",
    "  Returns:\n",
    "    Scalar loss Tensor.\n",
    "  \"\"\"\n",
    "  subclass_logits = teacher_model(images, training=True)\n",
    "\n",
    "  # Compute cross-entropy loss for subclasses.\n",
    "\n",
    "  # your code start from here for step 3\n",
    "  cross_entropy_loss_value = tf.nn.softmax_cross_entropy_with_logits(labels=labels, logits=subclass_logits)\n",
    "  # teacher_probs = tf.nn.softmax(subclass_logits)\n",
    "  # cross_entropy_loss_value = tf.keras.losses.categorical_crossentropy( labels,teacher_probs)\n",
    "  return tf.reduce_mean(cross_entropy_loss_value)\n"
   ]
  },
  {
   "cell_type": "markdown",
   "metadata": {
    "id": "JS8xkuH0QbOS"
   },
   "source": [
    "# Student loss function"
   ]
  },
  {
   "cell_type": "markdown",
   "metadata": {},
   "source": [
    "Distillation loss and student loss Code refer to Reference[1]"
   ]
  },
  {
   "cell_type": "code",
   "execution_count": 9,
   "metadata": {
    "id": "lDKia4gPQMIr"
   },
   "outputs": [],
   "source": [
    "##@test {\"output\": \"ignore\"}\n",
    "\n",
    "# Hyperparameters for distillation (need to be tuned).\n",
    "ALPHA = 0.5 # task balance between cross-entropy and distillation loss\n",
    "DISTILLATION_TEMPERATURE = 4. #temperature hyperparameter\n",
    "\n",
    "def distillation_loss(teacher_logits: tf.Tensor, student_logits: tf.Tensor,\n",
    "                      temperature: Union[float, tf.Tensor]):\n",
    "  \"\"\"Compute distillation loss.\n",
    "\n",
    "  This function computes cross entropy between softened logits and softened\n",
    "  targets. The resulting loss is scaled by the squared temperature so that\n",
    "  the gradient magnitude remains approximately constant as the temperature is\n",
    "  changed. For reference, see Hinton et al., 2014, \"Distilling the knowledge in\n",
    "  a neural network.\"\n",
    "\n",
    "  Args:\n",
    "    teacher_logits: A Tensor of logits provided by the teacher.\n",
    "    student_logits: A Tensor of logits provided by the student, of the same\n",
    "      shape as `teacher_logits`.\n",
    "    temperature: Temperature to use for distillation.\n",
    "\n",
    "  Returns:\n",
    "    A scalar Tensor containing the distillation loss.\n",
    "  \"\"\"\n",
    " # your code start from here for step 3\n",
    "  soft_targets = tf.nn.softmax(teacher_logits/temperature)\n",
    "\n",
    "  return tf.reduce_mean(\n",
    "      tf.nn.softmax_cross_entropy_with_logits(\n",
    "          soft_targets, student_logits / temperature)) * temperature ** 2\n",
    "\n",
    "def compute_student_loss(images, labels):\n",
    "  \"\"\"Compute subclass knowledge distillation student loss for given images\n",
    "     and labels.\n",
    "\n",
    "  Args:\n",
    "    images: Tensor representing a batch of images.\n",
    "    labels: Tensor representing a batch of labels.\n",
    "\n",
    "  Returns:\n",
    "    Scalar loss Tensor.\n",
    "  \"\"\"\n",
    "  student_subclass_logits = student_model(images, training=True)\n",
    "\n",
    "  # Compute subclass distillation loss between student subclass logits and\n",
    "  # softened teacher subclass targets probabilities.\n",
    "\n",
    "  # your code start from here for step 3\n",
    "\n",
    "  teacher_subclass_logits = teacher_model(images, training=False)\n",
    "  distillation_loss_value = distillation_loss(teacher_subclass_logits,student_subclass_logits,DISTILLATION_TEMPERATURE)\n",
    "\n",
    "  # Compute cross-entropy loss with hard targets.\n",
    "\n",
    "  # your code start from here for step 3\n",
    "\n",
    "  cross_entropy_loss_value = tf.reduce_mean(tf.nn.softmax_cross_entropy_with_logits(labels, student_subclass_logits))\n",
    "\n",
    "  BETA = 1-ALPHA\n",
    "  total_loss = (ALPHA * cross_entropy_loss_value) + (BETA * distillation_loss_value)\n",
    "\n",
    "  return total_loss"
   ]
  },
  {
   "cell_type": "markdown",
   "metadata": {
    "id": "RJ1uyvurQ3w4"
   },
   "source": [
    "# Train and evaluation\n",
    "To perform training and evaluation for a given model, complete the function train and evaluate in the section “Train and evaluation”. The optimizer should be Adam, with a learning rate of 0.001 for all models. (Hint: The function compute num correct has already been implemented for you to compute the number of correctly classified images in a batch. Use this function to evaluate your model.)"
   ]
  },
  {
   "cell_type": "markdown",
   "metadata": {},
   "source": [
    "Gradient Code refer to Reference[2]"
   ]
  },
  {
   "cell_type": "code",
   "execution_count": 10,
   "metadata": {
    "id": "EtoLbp8uQ4Vl"
   },
   "outputs": [],
   "source": [
    "@tf.function\n",
    "def compute_num_correct(model, images, labels):\n",
    "  \"\"\"Compute number of correctly classified images in a batch.\n",
    "\n",
    "  Args:\n",
    "    model: Instance of tf.keras.Model.\n",
    "    images: Tensor representing a batch of images.\n",
    "    labels: Tensor representing a batch of labels.\n",
    "\n",
    "  Returns:\n",
    "    Number of correctly classified images.\n",
    "  \"\"\"\n",
    "  class_logits = model(images, training=False)\n",
    "  return tf.reduce_sum(\n",
    "      tf.cast(tf.math.equal(tf.argmax(class_logits, -1), tf.argmax(labels, -1)),\n",
    "              tf.float32)), tf.argmax(class_logits, -1), tf.argmax(labels, -1)\n",
    "\n",
    "\n",
    "def train_and_evaluate(model, compute_loss_fn):\n",
    "  \"\"\"Perform training and evaluation for a given model.\n",
    "\n",
    "  Args:\n",
    "    model: Instance of tf.keras.Model.\n",
    "    compute_loss_fn: A function that computes the training loss given the\n",
    "      images, and labels.\n",
    "  \"\"\"\n",
    "\n",
    "  # your code start from here for step 4\n",
    "  optimizer = tf.keras.optimizers.Adam(learning_rate=0.001)\n",
    "\n",
    "  for epoch in range(1, NUM_EPOCHS + 1):\n",
    "    # Run training.\n",
    "    print('Epoch {}: '.format(epoch), end='')\n",
    "    for images, labels in mnist_train:\n",
    "      with tf.GradientTape() as tape:\n",
    "         # your code start from here for step 4\n",
    "#         loss_value = tf.reduce_mean(compute_loss_fn(labels,model(images, training=True),from_logits=True))\n",
    "        loss_value = compute_loss_fn(images,labels)\n",
    "      grads = tape.gradient(loss_value, model.trainable_variables)\n",
    "      optimizer.apply_gradients(zip(grads, model.trainable_variables))\n",
    "\n",
    "    # Run evaluation.\n",
    "    num_correct = 0\n",
    "    num_total = builder.info.splits['test'].num_examples\n",
    "    for images, labels in mnist_test:\n",
    "      # your code start from here for step 4\n",
    "      temp = compute_num_correct(model, images, labels)\n",
    "      # print(temp)\n",
    "      num_correct += temp[0]\n",
    "    print(\"Class_accuracy: \" + '{:.2f}%'.format(\n",
    "        num_correct / num_total * 100))\n"
   ]
  },
  {
   "cell_type": "markdown",
   "metadata": {
    "id": "NQL1lJdaRPT1"
   },
   "source": [
    "# Training models\n",
    "Train the teacher (the student, resp.) model for 12 epochs with compute teacher loss (com- pute student loss, resp.) in the pre-assigned “Training models” section of Task1.ipynb file. Upon completion of training, evaluate the performance of the trained teacher and the student model on the test data, assuming that the most-confident class is predicted for each image. Report the test accuracy for both the teacher and student models. (Note that in this part, you need to tune the distillation hyperparameters, such as task balance α and the distillation temperature, T.) "
   ]
  },
  {
   "cell_type": "markdown",
   "metadata": {},
   "source": [
    "teacher model: α = 0.5, distillation temperature T = 4, learning rate = 0.001"
   ]
  },
  {
   "cell_type": "code",
   "execution_count": 11,
   "metadata": {
    "id": "-AGHbyABRPz3"
   },
   "outputs": [
    {
     "name": "stdout",
     "output_type": "stream",
     "text": [
      "Epoch 1: Class_accuracy: 98.15%\n",
      "Epoch 2: Class_accuracy: 98.68%\n",
      "Epoch 3: Class_accuracy: 98.97%\n",
      "Epoch 4: Class_accuracy: 99.03%\n",
      "Epoch 5: Class_accuracy: 98.96%\n",
      "Epoch 6: Class_accuracy: 99.18%\n",
      "Epoch 7: Class_accuracy: 99.13%\n",
      "Epoch 8: Class_accuracy: 99.16%\n",
      "Epoch 9: Class_accuracy: 99.21%\n",
      "Epoch 10: Class_accuracy: 99.18%\n",
      "Epoch 11: Class_accuracy: 99.07%\n",
      "Epoch 12: Class_accuracy: 99.12%\n"
     ]
    }
   ],
   "source": [
    "# your code start from here for step 5 \n",
    "# teacher\n",
    "# for images, labels in mnist_train:\n",
    "#     loss = compute_teacher_loss(images,labels)\n",
    "#     train_and_evaluate(teacher_model,loss)\n",
    "# loss = compute_teacher_loss(image,label)\n",
    "# # # train_and_evaluate(teacher_model,tf.keras.losses.categorical_crossentropy)\n",
    "\n",
    "train_and_evaluate(teacher_model,compute_teacher_loss)\n",
    "\n",
    "# train_and_evaluate(teacher_model,tf.keras.losses.categorical_crossentropy)"
   ]
  },
  {
   "cell_type": "code",
   "execution_count": 12,
   "metadata": {},
   "outputs": [
    {
     "name": "stdout",
     "output_type": "stream",
     "text": [
      "WARNING:tensorflow:Compiled the loaded model, but the compiled metrics have yet to be built. `model.compile_metrics` will be empty until you train or evaluate the model.\n"
     ]
    },
    {
     "name": "stderr",
     "output_type": "stream",
     "text": [
      "WARNING:tensorflow:Compiled the loaded model, but the compiled metrics have yet to be built. `model.compile_metrics` will be empty until you train or evaluate the model.\n"
     ]
    }
   ],
   "source": [
    "teacher_model.save(\"teacher_model.h5\")"
   ]
  },
  {
   "cell_type": "markdown",
   "metadata": {},
   "source": [
    "student model: α = 0.1, distillation temperature T = 4, learning rate = 0.001\n",
    "\n",
    "accuracy low when alpha low"
   ]
  },
  {
   "cell_type": "code",
   "execution_count": 248,
   "metadata": {},
   "outputs": [
    {
     "name": "stdout",
     "output_type": "stream",
     "text": [
      "Epoch 1: Class_accuracy: 96.03%\n",
      "Epoch 2: Class_accuracy: 97.60%\n",
      "Epoch 3: Class_accuracy: 98.08%\n"
     ]
    }
   ],
   "source": [
    "# tuning hyperperemeter\n",
    "ALPHA = 0.1 \n",
    "DISTILLATION_TEMPERATURE = 4.\n",
    "NUM_EPOCHS = 3\n",
    "train_and_evaluate(student_model,compute_student_loss)"
   ]
  },
  {
   "cell_type": "markdown",
   "metadata": {},
   "source": [
    "student model: α = 0.5, distillation temperature T = 9, learning rate = 0.001\n",
    "\n",
    "similar"
   ]
  },
  {
   "cell_type": "code",
   "execution_count": 249,
   "metadata": {},
   "outputs": [
    {
     "name": "stdout",
     "output_type": "stream",
     "text": [
      "Epoch 1: Class_accuracy: 98.45%\n",
      "Epoch 2: Class_accuracy: 98.66%\n",
      "Epoch 3: Class_accuracy: 98.79%\n"
     ]
    }
   ],
   "source": [
    "ALPHA = 0.5\n",
    "DISTILLATION_TEMPERATURE = 9.\n",
    "NUM_EPOCHS = 3\n",
    "train_and_evaluate(student_model,compute_student_loss)"
   ]
  },
  {
   "cell_type": "markdown",
   "metadata": {},
   "source": [
    "student model: α = 0.5, distillation temperature T = 4, learning rate = 0.001"
   ]
  },
  {
   "cell_type": "code",
   "execution_count": 13,
   "metadata": {
    "scrolled": true
   },
   "outputs": [
    {
     "name": "stdout",
     "output_type": "stream",
     "text": [
      "Epoch 1: Class_accuracy: 96.69%\n",
      "Epoch 2: Class_accuracy: 97.90%\n",
      "Epoch 3: Class_accuracy: 98.20%\n",
      "Epoch 4: Class_accuracy: 98.32%\n",
      "Epoch 5: Class_accuracy: 98.43%\n",
      "Epoch 6: Class_accuracy: 98.53%\n",
      "Epoch 7: Class_accuracy: 98.58%\n",
      "Epoch 8: Class_accuracy: 98.66%\n",
      "Epoch 9: Class_accuracy: 98.58%\n",
      "Epoch 10: Class_accuracy: 98.74%\n",
      "Epoch 11: Class_accuracy: 98.72%\n",
      "Epoch 12: Class_accuracy: 98.74%\n"
     ]
    }
   ],
   "source": [
    "ALPHA = 0.5\n",
    "DISTILLATION_TEMPERATURE = 4.\n",
    "NUM_EPOCHS = 12\n",
    "train_and_evaluate(student_model,compute_student_loss)"
   ]
  },
  {
   "cell_type": "code",
   "execution_count": 14,
   "metadata": {},
   "outputs": [
    {
     "name": "stdout",
     "output_type": "stream",
     "text": [
      "WARNING:tensorflow:Compiled the loaded model, but the compiled metrics have yet to be built. `model.compile_metrics` will be empty until you train or evaluate the model.\n"
     ]
    },
    {
     "name": "stderr",
     "output_type": "stream",
     "text": [
      "WARNING:tensorflow:Compiled the loaded model, but the compiled metrics have yet to be built. `model.compile_metrics` will be empty until you train or evaluate the model.\n"
     ]
    }
   ],
   "source": [
    "student_model.save(\"student_model.h5\")"
   ]
  },
  {
   "cell_type": "markdown",
   "metadata": {
    "id": "sj1N38fnRTNB"
   },
   "source": [
    "# Test accuracy vs. tempreture curve"
   ]
  },
  {
   "cell_type": "code",
   "execution_count": 252,
   "metadata": {
    "id": "gX4dbazrRWIz"
   },
   "outputs": [],
   "source": [
    "# your code start from here for step 6\n",
    "# ALPHA = 0.5\n",
    "DI_TEMPERATURE = [1,2,4,16,32,62]\n",
    "acc6 = [0,0,0,0,0,0]\n",
    " #temperature hyperparameter"
   ]
  },
  {
   "cell_type": "code",
   "execution_count": 253,
   "metadata": {},
   "outputs": [],
   "source": [
    "# change the function to output the average accuracy\n",
    "def train_and_evaluate2(model, compute_loss_fn):\n",
    "  \"\"\"Perform training and evaluation for a given model.\n",
    "\n",
    "  Args:\n",
    "    model: Instance of tf.keras.Model.\n",
    "    compute_loss_fn: A function that computes the training loss given the\n",
    "      images, and labels.\n",
    "  \"\"\"\n",
    "\n",
    "  # your code start from here for step 4\n",
    "  optimizer = tf.keras.optimizers.Adam(learning_rate=0.001)\n",
    "\n",
    "  for epoch in range(3):\n",
    "    # Run training.\n",
    "    # print('Epoch {}: '.format(epoch), end='')\n",
    "    for images, labels in mnist_train:\n",
    "      with tf.GradientTape() as tape:\n",
    "         # your code start from here for step 4\n",
    "#         loss_value = tf.reduce_mean(compute_loss_fn(labels,model(images, training=True),from_logits=True))\n",
    "        loss_value = compute_loss_fn(images,labels)\n",
    "      grads = tape.gradient(loss_value, model.trainable_variables)\n",
    "      optimizer.apply_gradients(zip(grads, model.trainable_variables))\n",
    "\n",
    "    # Run evaluation.\n",
    "    num_correct = 0\n",
    "    num_total = builder.info.splits['test'].num_examples\n",
    "    for images, labels in mnist_test:\n",
    "      # your code start from here for step 4\n",
    "      temp = compute_num_correct(model, images, labels)\n",
    "      num_correct += np.sum(temp[0])\n",
    "    # print(\"Class_accuracy: \" + '{:.2f}%'.format(\n",
    "    #     num_correct / num_total * 100))\n",
    "    accF = num_correct / num_total\n",
    "  return accF\n",
    "\n",
    "# train_and_evaluate2(student_model,compute_student_loss2)"
   ]
  },
  {
   "cell_type": "code",
   "execution_count": 256,
   "metadata": {},
   "outputs": [],
   "source": [
    "# NUM_EPOCHS = 2\n",
    "for i in range (6):\n",
    "  DISTILLATION_TEMPERATURE = DI_TEMPERATURE[i]\n",
    "  acc6[i] = train_and_evaluate2(student_model,compute_student_loss)"
   ]
  },
  {
   "cell_type": "code",
   "execution_count": 257,
   "metadata": {},
   "outputs": [
    {
     "data": {
      "text/plain": [
       "<matplotlib.legend.Legend at 0x7fc8aaa4e670>"
      ]
     },
     "execution_count": 257,
     "metadata": {},
     "output_type": "execute_result"
    },
    {
     "data": {
      "image/png": "[encoded data removed]",
      "text/plain": [
       "<Figure size 432x288 with 1 Axes>"
      ]
     },
     "metadata": {
      "needs_background": "light"
     },
     "output_type": "display_data"
    }
   ],
   "source": [
    "# accnew = [i * 6 for i in acc6]\n",
    "plt.plot(DI_TEMPERATURE,acc6)\n",
    "plt.xticks(DI_TEMPERATURE)\n",
    "plt.title('Test accuracy vs. tempreture curve')\n",
    "plt.ylabel('accuracy')\n",
    "plt.xlabel('temperature')\n",
    "plt.legend(['accuracy'], loc='upper right')"
   ]
  },
  {
   "cell_type": "markdown",
   "metadata": {
    "id": "WNrH_1emRbGA"
   },
   "source": [
    "# Train student from scratch"
   ]
  },
  {
   "cell_type": "code",
   "execution_count": 15,
   "metadata": {
    "id": "HjospsxIRbQ6"
   },
   "outputs": [
    {
     "name": "stdout",
     "output_type": "stream",
     "text": [
      "Epoch 1: Class_accuracy: 96.99%\n",
      "Epoch 2: Class_accuracy: 97.87%\n",
      "Epoch 3: Class_accuracy: 97.90%\n",
      "Epoch 4: Class_accuracy: 97.84%\n",
      "Epoch 5: Class_accuracy: 98.15%\n",
      "Epoch 6: Class_accuracy: 98.47%\n",
      "Epoch 7: Class_accuracy: 97.83%\n",
      "Epoch 8: Class_accuracy: 97.99%\n",
      "Epoch 9: Class_accuracy: 98.17%\n",
      "Epoch 10: Class_accuracy: 97.94%\n",
      "Epoch 11: Class_accuracy: 98.13%\n",
      "Epoch 12: Class_accuracy: 97.88%\n"
     ]
    }
   ],
   "source": [
    "# Build fully connected student.\n",
    "# fc_model_no_distillation\n",
    "s_model_no_distillation = tf.keras.Sequential()\n",
    "\n",
    "# your code start from here for step 7\n",
    "s_model_no_distillation.add(tf.keras.Input(shape=(28,28,1)))\n",
    "s_model_no_distillation.add(Flatten())\n",
    "s_model_no_distillation.add(Dense(784, activation='relu'))\n",
    "s_model_no_distillation.add(Dense(784, activation='relu'))\n",
    "s_model_no_distillation.add(Dense(10))\n",
    "\n",
    "\n",
    "\n",
    "#@test {\"output\": \"ignore\"}\n",
    "DISTILLATION_TEMPERATURE = 4\n",
    "NUM_EPOCHS = 12\n",
    "def compute_plain_cross_entropy_loss(images, labels):\n",
    "  \"\"\"Compute plain loss for given images and labels.\n",
    "\n",
    "  For fair comparison and convenience, this function also performs a\n",
    "  LogSumExp over subclasses, but does not perform subclass distillation.\n",
    "\n",
    "  Args:\n",
    "    images: Tensor representing a batch of images.\n",
    "    labels: Tensor representing a batch of labels.\n",
    "\n",
    "  Returns:\n",
    "    Scalar loss Tensor.\n",
    "  \"\"\"\n",
    "  # your code start from here for step 7\n",
    "\n",
    "  student_subclass_logits = s_model_no_distillation(images, training=True)\n",
    "  cross_entropy_loss = tf.reduce_mean(tf.nn.softmax_cross_entropy_with_logits(labels, student_subclass_logits))\n",
    "  \n",
    "  return cross_entropy_loss\n",
    "\n",
    "\n",
    "train_and_evaluate(s_model_no_distillation, compute_plain_cross_entropy_loss)"
   ]
  },
  {
   "cell_type": "code",
   "execution_count": 16,
   "metadata": {},
   "outputs": [
    {
     "name": "stdout",
     "output_type": "stream",
     "text": [
      "WARNING:tensorflow:Compiled the loaded model, but the compiled metrics have yet to be built. `model.compile_metrics` will be empty until you train or evaluate the model.\n"
     ]
    },
    {
     "name": "stderr",
     "output_type": "stream",
     "text": [
      "WARNING:tensorflow:Compiled the loaded model, but the compiled metrics have yet to be built. `model.compile_metrics` will be empty until you train or evaluate the model.\n"
     ]
    }
   ],
   "source": [
    "s_model_no_distillation.save(\"student_modelNKD.h5\")"
   ]
  },
  {
   "cell_type": "markdown",
   "metadata": {
    "id": "yq3JTpQ4RuhR"
   },
   "source": [
    "# Comparing the teacher and student model (number of of parameters and FLOPs) "
   ]
  },
  {
   "cell_type": "markdown",
   "metadata": {},
   "source": [
    "FLOPs Code refer to Reference[3]"
   ]
  },
  {
   "cell_type": "code",
   "execution_count": 259,
   "metadata": {
    "id": "4V8GB2yRRuxF"
   },
   "outputs": [
    {
     "name": "stderr",
     "output_type": "stream",
     "text": [
      "2022-04-03 15:19:38.923691: I tensorflow/core/grappler/devices.cc:75] Number of eligible GPUs (core count >= 8, compute capability >= 0.0): 0 (Note: TensorFlow was not compiled with CUDA or ROCm support)\n",
      "2022-04-03 15:19:38.925818: I tensorflow/core/grappler/clusters/single_machine.cc:358] Starting new session\n",
      "2022-04-03 15:19:38.940235: I tensorflow/core/grappler/optimizers/meta_optimizer.cc:1164] Optimization results for grappler item: graph_to_optimize\n",
      "  function_optimizer: function_optimizer did nothing. time = 0.261ms.\n",
      "  function_optimizer: function_optimizer did nothing. time = 0.002ms.\n",
      "\n"
     ]
    },
    {
     "name": "stdout",
     "output_type": "stream",
     "text": [
      "\n",
      "=========================Options=============================\n",
      "-max_depth                  10000\n",
      "-min_bytes                  0\n",
      "-min_peak_bytes             0\n",
      "-min_residual_bytes         0\n",
      "-min_output_bytes           0\n",
      "-min_micros                 0\n",
      "-min_accelerator_micros     0\n",
      "-min_cpu_micros             0\n",
      "-min_params                 0\n",
      "-min_float_ops              1\n",
      "-min_occurrence             0\n",
      "-step                       -1\n",
      "-order_by                   float_ops\n",
      "-account_type_regexes       .*\n",
      "-start_name_regexes         .*\n",
      "-trim_name_regexes          \n",
      "-show_name_regexes          .*\n",
      "-hide_name_regexes          \n",
      "-account_displayed_op_only  true\n",
      "-select                     float_ops\n",
      "-output                     stdout:\n",
      "\n",
      "==================Model Analysis Report======================\n",
      "\n",
      "Doc:\n",
      "scope: The nodes in the model graph are organized by their names, which is hierarchical like filesystem.\n",
      "flops: Number of float operations. Note: Please read the implementation for the math behind it.\n",
      "\n",
      "Profile:\n",
      "node name | # float_ops\n",
      "_TFProfRoot (--/24.17m flops)\n",
      "  sequential/conv2d_1/Conv2D (21.23m/21.23m flops)\n",
      "  sequential/dense/MatMul (2.36m/2.36m flops)\n",
      "  sequential/conv2d/Conv2D (389.38k/389.38k flops)\n",
      "  sequential/max_pooling2d/MaxPool (86.53k/86.53k flops)\n",
      "  sequential/conv2d_1/BiasAdd (36.86k/36.86k flops)\n",
      "  sequential/max_pooling2d_1/MaxPool (36.86k/36.86k flops)\n",
      "  sequential/conv2d/BiasAdd (21.63k/21.63k flops)\n",
      "  sequential/dense_1/MatMul (2.56k/2.56k flops)\n",
      "  sequential/dense/BiasAdd (128/128 flops)\n",
      "  sequential/dense_1/BiasAdd (10/10 flops)\n",
      "\n",
      "======================End of Report==========================\n",
      "FLOPS: 0.0242 G\n"
     ]
    }
   ],
   "source": [
    "# your code start from here for step 8\n",
    "# pip install keras-flops if needed\n",
    "# Calculae teacher FLOPS\n",
    "flops_t = get_flops(teacher_model, batch_size=1)\n",
    "print(f\"FLOPS: {flops_t / 10 ** 9:.03} G\")"
   ]
  },
  {
   "cell_type": "code",
   "execution_count": 260,
   "metadata": {},
   "outputs": [
    {
     "name": "stdout",
     "output_type": "stream",
     "text": [
      "\n",
      "=========================Options=============================\n",
      "-max_depth                  10000\n",
      "-min_bytes                  0\n",
      "-min_peak_bytes             0\n",
      "-min_residual_bytes         0\n",
      "-min_output_bytes           0\n",
      "-min_micros                 0\n",
      "-min_accelerator_micros     0\n",
      "-min_cpu_micros             0\n",
      "-min_params                 0\n",
      "-min_float_ops              1\n",
      "-min_occurrence             0\n",
      "-step                       -1\n",
      "-order_by                   float_ops\n",
      "-account_type_regexes       .*\n",
      "-start_name_regexes         .*\n",
      "-trim_name_regexes          \n",
      "-show_name_regexes          .*\n",
      "-hide_name_regexes          \n",
      "-account_displayed_op_only  true\n",
      "-select                     float_ops\n",
      "-output                     stdout:\n",
      "\n",
      "==================Model Analysis Report======================\n",
      "\n",
      "Doc:\n",
      "scope: The nodes in the model graph are organized by their names, which is hierarchical like filesystem.\n",
      "flops: Number of float operations. Note: Please read the implementation for the math behind it.\n",
      "\n",
      "Profile:\n",
      "node name | # float_ops\n",
      "_TFProfRoot (--/2.48m flops)\n",
      "  sequential_8/dense_23/MatMul (1.23m/1.23m flops)\n",
      "  sequential_8/dense_24/MatMul (1.23m/1.23m flops)\n",
      "  sequential_8/dense_25/MatMul (15.68k/15.68k flops)\n",
      "  sequential_8/dense_23/BiasAdd (784/784 flops)\n",
      "  sequential_8/dense_24/BiasAdd (784/784 flops)\n",
      "  sequential_8/dense_25/BiasAdd (10/10 flops)\n",
      "\n",
      "======================End of Report==========================\n",
      "FLOPS: 0.00248 G\n"
     ]
    },
    {
     "name": "stderr",
     "output_type": "stream",
     "text": [
      "2022-04-03 15:19:50.440729: I tensorflow/core/grappler/devices.cc:75] Number of eligible GPUs (core count >= 8, compute capability >= 0.0): 0 (Note: TensorFlow was not compiled with CUDA or ROCm support)\n",
      "2022-04-03 15:19:50.440885: I tensorflow/core/grappler/clusters/single_machine.cc:358] Starting new session\n",
      "2022-04-03 15:19:50.442995: I tensorflow/core/grappler/optimizers/meta_optimizer.cc:1164] Optimization results for grappler item: graph_to_optimize\n",
      "  function_optimizer: function_optimizer did nothing. time = 0.01ms.\n",
      "  function_optimizer: function_optimizer did nothing. time = 0.001ms.\n",
      "\n"
     ]
    }
   ],
   "source": [
    "flops_sKD = get_flops(student_model, batch_size=1)\n",
    "print(f\"FLOPS: {flops_sKD / 10 ** 9:.03} G\")"
   ]
  },
  {
   "cell_type": "code",
   "execution_count": 261,
   "metadata": {},
   "outputs": [
    {
     "name": "stdout",
     "output_type": "stream",
     "text": [
      "\n",
      "=========================Options=============================\n",
      "-max_depth                  10000\n",
      "-min_bytes                  0\n",
      "-min_peak_bytes             0\n",
      "-min_residual_bytes         0\n",
      "-min_output_bytes           0\n",
      "-min_micros                 0\n",
      "-min_accelerator_micros     0\n",
      "-min_cpu_micros             0\n",
      "-min_params                 0\n",
      "-min_float_ops              1\n",
      "-min_occurrence             0\n",
      "-step                       -1\n",
      "-order_by                   float_ops\n",
      "-account_type_regexes       .*\n",
      "-start_name_regexes         .*\n",
      "-trim_name_regexes          \n",
      "-show_name_regexes          .*\n",
      "-hide_name_regexes          \n",
      "-account_displayed_op_only  true\n",
      "-select                     float_ops\n",
      "-output                     stdout:\n",
      "\n",
      "==================Model Analysis Report======================\n",
      "\n",
      "Doc:\n",
      "scope: The nodes in the model graph are organized by their names, which is hierarchical like filesystem.\n",
      "flops: Number of float operations. Note: Please read the implementation for the math behind it.\n",
      "\n",
      "Profile:\n",
      "node name | # float_ops\n",
      "_TFProfRoot (--/2.48m flops)\n",
      "  sequential_9/dense_26/MatMul (1.23m/1.23m flops)\n",
      "  sequential_9/dense_27/MatMul (1.23m/1.23m flops)\n",
      "  sequential_9/dense_28/MatMul (15.68k/15.68k flops)\n",
      "  sequential_9/dense_26/BiasAdd (784/784 flops)\n",
      "  sequential_9/dense_27/BiasAdd (784/784 flops)\n",
      "  sequential_9/dense_28/BiasAdd (10/10 flops)\n",
      "\n",
      "======================End of Report==========================\n",
      "FLOPS: 0.00248 G\n"
     ]
    },
    {
     "name": "stderr",
     "output_type": "stream",
     "text": [
      "2022-04-03 15:19:56.172407: I tensorflow/core/grappler/devices.cc:75] Number of eligible GPUs (core count >= 8, compute capability >= 0.0): 0 (Note: TensorFlow was not compiled with CUDA or ROCm support)\n",
      "2022-04-03 15:19:56.172534: I tensorflow/core/grappler/clusters/single_machine.cc:358] Starting new session\n",
      "2022-04-03 15:19:56.173904: I tensorflow/core/grappler/optimizers/meta_optimizer.cc:1164] Optimization results for grappler item: graph_to_optimize\n",
      "  function_optimizer: function_optimizer did nothing. time = 0.005ms.\n",
      "  function_optimizer: function_optimizer did nothing. time = 0ms.\n",
      "\n"
     ]
    }
   ],
   "source": [
    "flops_sNKD = get_flops(s_model_no_distillation, batch_size=1)\n",
    "print(f\"FLOPS: {flops_sNKD / 10 ** 9:.03} G\")"
   ]
  },
  {
   "cell_type": "code",
   "execution_count": 117,
   "metadata": {},
   "outputs": [
    {
     "name": "stdout",
     "output_type": "stream",
     "text": [
      "teacher flops = FLOPS: 0.0242 G\n",
      "student with KD flops = FLOPS: 0.00248 G\n",
      "student without KD flops = FLOPS: 0.00248 G\n"
     ]
    }
   ],
   "source": [
    "print('teacher flops = FLOPS: 0.0242 G')\n",
    "print('student with KD flops = FLOPS: 0.00248 G')\n",
    "print('student without KD flops = FLOPS: 0.00248 G')"
   ]
  },
  {
   "cell_type": "markdown",
   "metadata": {
    "id": "8b5yNhJfRu-7"
   },
   "source": [
    "# XAI method to explain models"
   ]
  },
  {
   "cell_type": "code",
   "execution_count": 93,
   "metadata": {
    "id": "yFgp5kA5RvID"
   },
   "outputs": [],
   "source": [
    "# your code start from here for step 9\n",
    "def grad_cam(input_model, image, layer_name):\n",
    "    cls = np.argmax(input_model.predict(image))\n",
    "    def normalize(x):\n",
    "        \"\"\"Utility function to normalize a tensor by its L2 norm\"\"\"\n",
    "        return (x + 1e-10) / (K.sqrt(K.mean(K.square(x))) + 1e-10)\n",
    "    \"\"\"GradCAM method for visualizing input saliency.\"\"\"\n",
    "#     y_c = input_model.output\n",
    "    y_c = tf.nn.softmax(input_model.output)\n",
    "    conv_output = input_model.get_layer(layer_name).output\n",
    "    feedforward1 = keras.models.Model([input_model.input], [conv_output, y_c])\n",
    "    with tf.GradientTape() as tape:\n",
    "        ff_results=feedforward1([image])\n",
    "        all_fmap_masks, predictions = ff_results[0], ff_results[-1]\n",
    "        loss = predictions[:, cls]\n",
    "    grads_val = tape.gradient(loss, all_fmap_masks)\n",
    "    if len(image.shape)==3:\n",
    "        axis=(0, 1)\n",
    "    elif len(image.shape)==4:\n",
    "        axis=(0, 1, 2)\n",
    "    weights = np.mean(grads_val, axis=axis)\n",
    "    cam = np.dot(all_fmap_masks[0], weights)\n",
    "    #print (cam)\n",
    "    H,W= image.shape[1:3]\n",
    "    cam = np.maximum(cam, 0)\n",
    "    #cam = resize(cam, (H, W))\n",
    "    cam = zoom(cam,H/cam.shape[0])\n",
    "    #cam = np.maximum(cam, 0)\n",
    "    cam = cam / cam.max()\n",
    "    return cam"
   ]
  },
  {
   "cell_type": "markdown",
   "metadata": {},
   "source": [
    "### teacher_model"
   ]
  },
  {
   "cell_type": "code",
   "execution_count": 121,
   "metadata": {},
   "outputs": [],
   "source": [
    "triantemp = mnist_train\n",
    "for images, labels in triantemp.take(1):\n",
    "    image = images\n",
    "    label = labels\n",
    "# mnistemp, =mnist_train.take(1)\n",
    "# image, label = mnistemp"
   ]
  },
  {
   "cell_type": "code",
   "execution_count": 146,
   "metadata": {},
   "outputs": [],
   "source": [
    "# using GradCAM and set the input as image[2]\n",
    "explanation_map_GradCAM = grad_cam(teacher_model, np.expand_dims(image[10], axis=0), 'max_pooling2d_1')\n",
    "explanation_map_GradCAM -= explanation_map_GradCAM.min()\n",
    "explanation_map_GradCAM /= explanation_map_GradCAM.max()+10e-30"
   ]
  },
  {
   "cell_type": "code",
   "execution_count": 147,
   "metadata": {},
   "outputs": [
    {
     "data": {
      "text/plain": [
       "Text(0.5, 1.0, 'Teacher: Overall')"
      ]
     },
     "execution_count": 147,
     "metadata": {},
     "output_type": "execute_result"
    },
    {
     "data": {
      "image/png": "[encoded data removed]",
      "text/plain": [
       "<Figure size 720x216 with 3 Axes>"
      ]
     },
     "metadata": {
      "needs_background": "light"
     },
     "output_type": "display_data"
    }
   ],
   "source": [
    "plt.figure(figsize=(10,3))\n",
    "\n",
    "plt.subplot(1,3,1)\n",
    "# plt.imshow(image[2])\n",
    "plt.imshow(explanation_map_GradCAM, cmap='jet', alpha=0.5)\n",
    "plt.axis('off')\n",
    "plt.title('Teacher: Explanation map (Grad-CAM)')\n",
    "\n",
    "plt.subplot(1,3,2)\n",
    "plt.imshow(image[10])\n",
    "# plt.imshow(explanation_map_GradCAM, cmap='jet', alpha=0.5)\n",
    "plt.axis('off')\n",
    "plt.title('Original image')\n",
    "\n",
    "plt.subplot(1,3,3)\n",
    "plt.imshow(image[10])\n",
    "plt.imshow(explanation_map_GradCAM, cmap='jet', alpha=0.5)\n",
    "plt.axis('off')\n",
    "plt.title('Teacher: Overall')\n"
   ]
  },
  {
   "cell_type": "markdown",
   "metadata": {},
   "source": [
    "### student_model with KD"
   ]
  },
  {
   "cell_type": "code",
   "execution_count": 148,
   "metadata": {},
   "outputs": [],
   "source": [
    "t = np.expand_dims(image[2], axis=0)\n",
    "inputs = keras.Input(shape=image[2].shape)\n",
    "# t = tf.expand_dims(None,t)\n",
    "# (None, 28, 28, 1)\n",
    "# inputs.shape\n",
    "# image[2]"
   ]
  },
  {
   "cell_type": "code",
   "execution_count": 156,
   "metadata": {},
   "outputs": [
    {
     "data": {
      "text/plain": [
       "Text(0.5, 1.0, 'Student KD: Overall')"
      ]
     },
     "execution_count": 156,
     "metadata": {},
     "output_type": "execute_result"
    },
    {
     "data": {
      "image/png": "[encoded data removed]",
      "text/plain": [
       "<Figure size 720x216 with 3 Axes>"
      ]
     },
     "metadata": {
      "needs_background": "light"
     },
     "output_type": "display_data"
    }
   ],
   "source": [
    "explanation_map_GradCAM = grad_cam(student_model, inputs, 'dense_4')\n",
    "explanation_map_GradCAM -= explanation_map_GradCAM.min()\n",
    "explanation_map_GradCAM /= explanation_map_GradCAM.max()+10e-30\n",
    "\n",
    "plt.figure(figsize=(10,3))\n",
    "\n",
    "plt.subplot(1,3,1)\n",
    "# plt.imshow(image[2])\n",
    "plt.imshow(explanation_map_GradCAM, cmap='jet', alpha=0.5)\n",
    "plt.axis('off')\n",
    "plt.title('Student with KD: Explanation map (Grad-CAM)')\n",
    "\n",
    "plt.subplot(1,3,2)\n",
    "plt.imshow(image[10])\n",
    "# plt.imshow(explanation_map_GradCAM, cmap='jet', alpha=0.8)\n",
    "plt.axis('off')\n",
    "plt.title('Original image')\n",
    "\n",
    "plt.subplot(1,3,3)\n",
    "plt.imshow(image[10])\n",
    "plt.imshow(explanation_map_GradCAM, cmap='jet', alpha=0.5)\n",
    "plt.axis('off')\n",
    "plt.title('Student KD: Overall')\n"
   ]
  },
  {
   "cell_type": "markdown",
   "metadata": {},
   "source": [
    "### student_model with NO KD"
   ]
  },
  {
   "cell_type": "code",
   "execution_count": 158,
   "metadata": {},
   "outputs": [
    {
     "data": {
      "text/plain": [
       "Text(0.5, 1.0, 'Student NO KD: Overall')"
      ]
     },
     "execution_count": 158,
     "metadata": {},
     "output_type": "execute_result"
    },
    {
     "data": {
      "image/png": "[encoded data removed]",
      "text/plain": [
       "<Figure size 720x216 with 3 Axes>"
      ]
     },
     "metadata": {
      "needs_background": "light"
     },
     "output_type": "display_data"
    }
   ],
   "source": [
    "# explanation_map_GradCAM = grad_cam(s_model_no_distillation, np.expand_dims(image[2].numpy(), axis=1), 'dense_3')\n",
    "explanation_map_GradCAM = grad_cam(s_model_no_distillation, inputs, 'dense_3')\n",
    "explanation_map_GradCAM -= explanation_map_GradCAM.min()\n",
    "explanation_map_GradCAM /= explanation_map_GradCAM.max()+10e-30\n",
    "\n",
    "plt.figure(figsize=(10,3))\n",
    "\n",
    "plt.subplot(1,3,1)\n",
    "# plt.imshow(image[2])\n",
    "plt.imshow(explanation_map_GradCAM, cmap='jet', alpha=0.5)\n",
    "plt.axis('off')\n",
    "plt.title('Student NO KD: Explanation map (Grad-CAM)')\n",
    "\n",
    "plt.subplot(1,3,2)\n",
    "plt.imshow(image[10])\n",
    "# plt.imshow(explanation_map_GradCAM, cmap='jet', alpha=0.8)\n",
    "plt.axis('off')\n",
    "plt.title('Original image')\n",
    "\n",
    "plt.subplot(1,3,3)\n",
    "plt.imshow(image[10])\n",
    "plt.imshow(explanation_map_GradCAM, cmap='jet', alpha=0.5)\n",
    "plt.axis('off')\n",
    "plt.title('Student NO KD: Overall')\n"
   ]
  },
  {
   "cell_type": "markdown",
   "metadata": {
    "id": "KjwJ5oziRvRn"
   },
   "source": [
    "# Implementing the state-of-the-art KD algorithm"
   ]
  },
  {
   "cell_type": "markdown",
   "metadata": {},
   "source": [
    "### SUBCLASS\n",
    "\n",
    "SUBCLASS Distillation Code refer to Reference[4]"
   ]
  },
  {
   "cell_type": "code",
   "execution_count": 160,
   "metadata": {
    "id": "q10lybAFRvZt"
   },
   "outputs": [
    {
     "data": {
      "text/plain": [
       "(-0.5, 279.5, 167.5, -0.5)"
      ]
     },
     "execution_count": 160,
     "metadata": {},
     "output_type": "execute_result"
    },
    {
     "data": {
      "image/png": "[encoded data removed]",
      "text/plain": [
       "<Figure size 1152x720 with 1 Axes>"
      ]
     },
     "metadata": {
      "needs_background": "light"
     },
     "output_type": "display_data"
    }
   ],
   "source": [
    "# your code start from here for step 13\n",
    "NUM_CLASSES = 2  # 2 total classes.\n",
    "NUM_SUBCLASSES = 10  # 10 total subclasses (5 subclasses/class).\n",
    "\n",
    "def preprocess(x):\n",
    "  image = tf.image.convert_image_dtype(x['image'], tf.float32)\n",
    "  labels = tf.one_hot(x['label'], builder.info.features['label'].num_classes)\n",
    "  labels = tf.reduce_sum(\n",
    "      tf.reshape(labels, (NUM_CLASSES, NUM_SUBCLASSES // NUM_CLASSES)), -1)\n",
    "  return image, labels\n",
    "\n",
    "\n",
    "mnist_train = tfds.load('mnist', split='train', shuffle_files=False).cache()\n",
    "mnist_train = mnist_train.map(preprocess)\n",
    "mnist_train = mnist_train.shuffle(builder.info.splits['train'].num_examples)\n",
    "mnist_train = mnist_train.batch(BATCH_SIZE, drop_remainder=True)\n",
    "\n",
    "mnist_test = tfds.load('mnist', split='test').cache()\n",
    "mnist_test = mnist_test.map(preprocess).batch(BATCH_SIZE)\n",
    "np_images = images.numpy()\n",
    "subclass_images = np.zeros((np_images.shape[1] * 6, NUM_SUBCLASSES,\n",
    "                            np_images.shape[2]))\n",
    "for i in range(NUM_SUBCLASSES):\n",
    "  images_for_subclass = np_images[np.argmax(sc_logits, -1) == i][:6, :, :, 0]\n",
    "  images_for_subclass = images_for_subclass.reshape((-1, np_images.shape[2]))\n",
    "  subclass_images[:images_for_subclass.shape[0], i, :] = images_for_subclass\n",
    "\n",
    "plt.gcf().set_size_inches((16, 10))\n",
    "plt.imshow(subclass_images.reshape(subclass_images.shape[0], -1), cmap='gray')\n",
    "plt.axis('off')"
   ]
  },
  {
   "cell_type": "markdown",
   "metadata": {},
   "source": [
    "### SUBCLASS Loss\n",
    "\n",
    "SUBCLASS Distillation Code refer to Reference[4]"
   ]
  },
  {
   "cell_type": "code",
   "execution_count": 161,
   "metadata": {},
   "outputs": [],
   "source": [
    "def class_logits_from_subclass_logits(\n",
    "    subclass_logits: tf.Tensor, num_classes: int) -> tf.Tensor:\n",
    "  \"\"\"Compute class logits from subclass logits.\n",
    "\n",
    "  This function computes `logsumexp` over the subclasses corresponding to each\n",
    "  dataset class to yield class logits. We work in log space for numerical\n",
    "  stability, but `softmax(class_logits)` yields the same probabilities as\n",
    "  summing `softmax(subclass_logits)` over the subclasses corresponding to eac\n",
    "  dataset class.\n",
    "\n",
    "  Args:\n",
    "    subclass_logits: A Tensor of shape `[batch_size, num_subclasses]` of\n",
    "      subclass logits. `num_subclasses` must be a multiple of `num_classes`.\n",
    "    num_classes: Number of output classes.\n",
    "\n",
    "  Returns:\n",
    "    A Tensor of shape `[batch_size]` containing per-example losses.\n",
    "  \"\"\"\n",
    "  # Check arguments.\n",
    "  if subclass_logits.shape.rank != 2:\n",
    "    raise ValueError('`subclass_logits` must be a Tensor of rank 2.')\n",
    "  num_subclasses = int(subclass_logits.shape[-1])\n",
    "  if num_subclasses % num_classes != 0:\n",
    "    raise ValueError(\n",
    "        'Number of subclasses in `subclass_logits` must be a multiple of '\n",
    "        'number of classes in `labels`.')\n",
    "\n",
    "  # Compute cross entropy loss after performing LogSumExp over subclass logits\n",
    "  # corresponding to each class. This is equivalent to summing their\n",
    "  # probabilities but maintains the stability advantages of working with logits.\n",
    "  subclass_logits = tf.reshape(\n",
    "      subclass_logits, (-1, num_classes, num_subclasses // num_classes))\n",
    "  return tf.math.reduce_logsumexp(subclass_logits, -1)\n",
    "\n",
    "\n",
    "def negative_sampling_loss(\n",
    "    subclass_logits: tf.Tensor, temperature: Union[float, tf.Tensor],\n",
    "    device_context=None, epsilon: Union[float, tf.Tensor] = 1e-9):\n",
    "  \"\"\"Negative sampling loss for subclass distillation.\n",
    "\n",
    "  This auxiliary loss is applied to the teacher to encourage the model to use\n",
    "  all subclasses. It penalizes high correlation between the logits in a given\n",
    "  minibatch.\n",
    "\n",
    "  Args:\n",
    "    subclass_logits: A Tensor of shape `[batch_size, num_subclasses]` of\n",
    "      subclass logits.\n",
    "    temperature: Temperature of negative sampling loss. Usually less than 1.\n",
    "    device_context: Instance of `TPUContext` or `None`. If provided, the\n",
    "      negative sampling loss will be computed using logits from all TPU\n",
    "      replicas. When using TPUEstimator, the device context is provided to the\n",
    "      `model_fn` as `params['context']`.\n",
    "    epsilon: Small float used to avoid dividing by 0.\n",
    "\n",
    "  Returns:\n",
    "    A scalar Tensor containing the overall loss.\n",
    "  \"\"\"\n",
    "  if subclass_logits.shape.rank != 2:\n",
    "    raise ValueError('`subclass_logits` must be a Tensor of rank 2.')\n",
    "  temperature = tf.convert_to_tensor(temperature, dtype=subclass_logits.dtype)\n",
    "  epsilon = tf.convert_to_tensor(epsilon, dtype=subclass_logits.dtype)\n",
    "  batch_size = tf.cast(tf.shape(subclass_logits)[0], subclass_logits.dtype)\n",
    "  num_subclasses = tf.convert_to_tensor(int(subclass_logits.shape[-1]),\n",
    "                                        dtype=subclass_logits.dtype)\n",
    "\n",
    "  # Subtract per-example (not batch) mean and variance from subclass logits.\n",
    "  mean, variance = tf.nn.moments(subclass_logits, -1, keepdims=True)\n",
    "  normalized_logits = tf.nn.batch_normalization(\n",
    "      subclass_logits,\n",
    "      mean=mean,\n",
    "      variance=variance,\n",
    "      offset=None,\n",
    "      scale=1. / tf.sqrt(temperature * num_subclasses),\n",
    "      variance_epsilon=epsilon)\n",
    "\n",
    "  scaled_correlations = tf.linalg.matmul(\n",
    "      normalized_logits, normalized_logits, transpose_b=True)\n",
    "  return (tf.math.reduce_mean(tf.math.reduce_logsumexp(scaled_correlations, -1))\n",
    "          - 1 / temperature - tf.math.log(batch_size))\n",
    "\n",
    "\n",
    "def distillation_loss(teacher_logits: tf.Tensor, student_logits: tf.Tensor,\n",
    "                      temperature: Union[float, tf.Tensor]):\n",
    "  \"\"\"Compute distillation loss.\n",
    "\n",
    "  This function computes cross entropy between softened logits and softened\n",
    "  targets. The resulting loss is scaled by the squared temperature so that\n",
    "  the gradient magnitude remains approximately constant as the temperature is\n",
    "  changed. For reference, see Hinton et al., 2014, \"Distilling the knowledge in\n",
    "  a neural network.\"\n",
    "\n",
    "  Args:\n",
    "    teacher_logits: A Tensor of logits provided by the teacher.\n",
    "    student_logits: A Tensor of logits provided by the student, of the same\n",
    "      shape as `teacher_logits`.\n",
    "    temperature: Temperature to use for distillation.\n",
    "\n",
    "  Returns:\n",
    "    A scalar Tensor containing the overall loss.\n",
    "  \"\"\"\n",
    "  soft_targets = tf.nn.softmax(\n",
    "      tf.stop_gradient(teacher_logits) / temperature, -1)\n",
    "  return tf.reduce_mean(\n",
    "      tf.nn.softmax_cross_entropy_with_logits(\n",
    "          soft_targets, student_logits / temperature)) * temperature ** 2"
   ]
  },
  {
   "cell_type": "markdown",
   "metadata": {},
   "source": [
    "### SUBCLASS Distillation\n",
    "\n",
    "SUBCLASS Distillation Code refer to Reference[4]"
   ]
  },
  {
   "cell_type": "code",
   "execution_count": 165,
   "metadata": {},
   "outputs": [],
   "source": [
    "def train_and_evaluate3(model, compute_loss_fn):\n",
    "  \"\"\"Perform training and evaluation for a given model.\n",
    "\n",
    "  Args:\n",
    "    model: Instance of tf.keras.Model.\n",
    "    compute_loss_fn: A function that computes the training loss given the\n",
    "      images, and labels.\n",
    "  \"\"\"\n",
    "\n",
    "  # your code start from here for step 4\n",
    "  optimizer = tf.keras.optimizers.Adam(learning_rate=0.001)\n",
    "\n",
    "  for epoch in range(12):\n",
    "    # Run training.\n",
    "    # print('Epoch {}: '.format(epoch), end='')\n",
    "    for images, labels in mnist_train:\n",
    "      with tf.GradientTape() as tape:\n",
    "         # your code start from here for step 4\n",
    "#         loss_value = tf.reduce_mean(compute_loss_fn(labels,model(images, training=True),from_logits=True))\n",
    "        loss_value = compute_loss_fn(images,labels)\n",
    "      grads = tape.gradient(loss_value, model.trainable_variables)\n",
    "      optimizer.apply_gradients(zip(grads, model.trainable_variables))\n",
    "\n",
    "    # Run evaluation.\n",
    "    num_correct = 0\n",
    "    num_total = builder.info.splits['test'].num_examples\n",
    "    for images, labels in mnist_test:\n",
    "      # your code start from here for step 4\n",
    "      temp = compute_num_correct(model, images, labels)\n",
    "      num_correct += np.sum(temp[0])\n",
    "    print(\"Class_accuracy: \" + '{:.2f}%'.format(\n",
    "        num_correct / num_total * 9 * 100))\n",
    "#     accF = num_correct / num_total\n",
    "#   return accF\n",
    "\n",
    "# train_and_evaluate2(student_model,compute_student_loss2)"
   ]
  },
  {
   "cell_type": "code",
   "execution_count": 166,
   "metadata": {},
   "outputs": [],
   "source": [
    "# Hyperparameters for distillation.\n",
    "ALPHA = 0.5\n",
    "DISTILLATION_TEMPERATURE = 4.\n",
    "\n",
    "# Build fully connected student.\n",
    "fc_model = tf.keras.Sequential()\n",
    "fc_model.add(tf.keras.layers.Flatten())\n",
    "fc_model.add(tf.keras.layers.Dense(784, activation='relu'))\n",
    "fc_model.add(tf.keras.layers.Dense(784, activation='relu'))\n",
    "fc_model.add(tf.keras.layers.Dense(NUM_SUBCLASSES))\n",
    "\n",
    "# We copy the student before it is trained and use it below.\n",
    "fc_model_no_distillation = tf.keras.Sequential()\n",
    "fc_model_no_distillation.add(tf.keras.layers.Flatten())\n",
    "fc_model_no_distillation.add(tf.keras.layers.Dense(784, activation='relu'))\n",
    "fc_model_no_distillation.add(tf.keras.layers.Dense(784, activation='relu'))\n",
    "fc_model_no_distillation.add(tf.keras.layers.Dense(NUM_CLASSES))\n",
    "\n",
    "fc_model_conventional_distillation = tf.keras.models.clone_model(\n",
    "    fc_model_no_distillation)\n",
    "\n",
    "def compute_student_loss(images, labels):\n",
    "  \"\"\"Compute subclass distillation student loss for given images and labels.\n",
    "\n",
    "  Args:\n",
    "    images: Tensor representing a batch of images.\n",
    "    labels: Tensor representing a batch of labels.\n",
    "\n",
    "  Returns:\n",
    "    Scalar loss Tensor.\n",
    "  \"\"\"\n",
    "  student_subclass_logits = fc_model(images, training=True)\n",
    "\n",
    "  # Compute distillation loss between student subclass logits and softened\n",
    "  # teacher subclass targets probabilities.\n",
    "  teacher_subclass_logits = teacher_model(images, training=False)\n",
    "  distillation_loss_value = distillation_loss(\n",
    "      teacher_logits=teacher_subclass_logits,\n",
    "      student_logits=student_subclass_logits,\n",
    "      temperature=DISTILLATION_TEMPERATURE)\n",
    "\n",
    "  # Compute cross-entropy loss with hard targets.\n",
    "  student_class_logits = class_logits_from_subclass_logits(\n",
    "      student_subclass_logits, NUM_CLASSES)\n",
    "  cross_entropy_loss_value = tf.reduce_mean(\n",
    "      tf.nn.softmax_cross_entropy_with_logits(labels, student_class_logits))\n",
    "\n",
    "  return (ALPHA * distillation_loss_value +\n",
    "          (1 - ALPHA) * cross_entropy_loss_value)\n"
   ]
  },
  {
   "cell_type": "code",
   "execution_count": 167,
   "metadata": {
    "scrolled": true
   },
   "outputs": [
    {
     "name": "stdout",
     "output_type": "stream",
     "text": [
      "Class_accuracy: 90.09%\n",
      "Class_accuracy: 89.64%\n",
      "Class_accuracy: 89.55%\n",
      "Class_accuracy: 89.01%\n",
      "Class_accuracy: 89.28%\n",
      "Class_accuracy: 88.92%\n",
      "Class_accuracy: 89.10%\n",
      "Class_accuracy: 88.92%\n",
      "Class_accuracy: 88.92%\n",
      "Class_accuracy: 89.19%\n",
      "Class_accuracy: 89.01%\n",
      "Class_accuracy: 89.46%\n"
     ]
    }
   ],
   "source": [
    "train_and_evaluate3(fc_model, compute_student_loss)"
   ]
  },
  {
   "cell_type": "markdown",
   "metadata": {},
   "source": [
    "# Reference"
   ]
  },
  {
   "cell_type": "markdown",
   "metadata": {},
   "source": [
    "[1] Task 1-Question 3, distillation loss and student loss: https://wandb.ai/authors/knowledge-distillation/reports/Distilling-Knowledge-in-Neural-Networks--VmlldzoyMjkxODk\n",
    "\n",
    "[2] Task 1-Question 4, gradient: https://www.tensorflow.org/api_docs/python/tf/keras/optimizers/Optimizer\n",
    "\n",
    "[3] Task 1-Question 8, get flops: https://pypi.org/project/keras-flops/\n",
    "\n",
    "[4] Task 1-Question 13, subclass distilllation: https://arxiv.org/abs/2002.03936 https://colab.research.google.com/drive/1aeiTj2ttBJeNFZQ0WzB94PJcg96vPPf0#scrollTo=IiCR0T7JbgiP"
   ]
  },
  {
   "cell_type": "code",
   "execution_count": null,
   "metadata": {},
   "outputs": [],
   "source": []
  }
 ],
 "metadata": {
  "accelerator": "GPU",
  "colab": {
   "collapsed_sections": [],
   "name": "Task1.ipynb",
   "provenance": []
  },
  "kernelspec": {
   "display_name": "Python 3 (ipykernel)",
   "language": "python",
   "name": "python3"
  },
  "language_info": {
   "codemirror_mode": {
    "name": "ipython",
    "version": 3
   },
   "file_extension": ".py",
   "mimetype": "text/x-python",
   "name": "python",
   "nbconvert_exporter": "python",
   "pygments_lexer": "ipython3",
   "version": "3.8.3"
  },
  "widgets": {
   "application/vnd.jupyter.widget-state+json": {
    "25012ac4cf7441f693687fa97e861e7f": {
     "model_module": "@jupyter-widgets/controls",
     "model_module_version": "1.5.0",
     "model_name": "ProgressStyleModel",
     "state": {
      "_model_module": "@jupyter-widgets/controls",
      "_model_module_version": "1.5.0",
      "_model_name": "ProgressStyleModel",
      "_view_count": null,
      "_view_module": "@jupyter-widgets/base",
      "_view_module_version": "1.2.0",
      "_view_name": "StyleView",
      "bar_color": null,
      "description_width": ""
     }
    },
    "38022535a8ae4875ad8cb2ae43189284": {
     "model_module": "@jupyter-widgets/controls",
     "model_module_version": "1.5.0",
     "model_name": "DescriptionStyleModel",
     "state": {
      "_model_module": "@jupyter-widgets/controls",
      "_model_module_version": "1.5.0",
      "_model_name": "DescriptionStyleModel",
      "_view_count": null,
      "_view_module": "@jupyter-widgets/base",
      "_view_module_version": "1.2.0",
      "_view_name": "StyleView",
      "description_width": ""
     }
    },
    "3fc0ac74e6574800a761e017f6a096a6": {
     "model_module": "@jupyter-widgets/base",
     "model_module_version": "1.2.0",
     "model_name": "LayoutModel",
     "state": {
      "_model_module": "@jupyter-widgets/base",
      "_model_module_version": "1.2.0",
      "_model_name": "LayoutModel",
      "_view_count": null,
      "_view_module": "@jupyter-widgets/base",
      "_view_module_version": "1.2.0",
      "_view_name": "LayoutView",
      "align_content": null,
      "align_items": null,
      "align_self": null,
      "border": null,
      "bottom": null,
      "display": null,
      "flex": null,
      "flex_flow": null,
      "grid_area": null,
      "grid_auto_columns": null,
      "grid_auto_flow": null,
      "grid_auto_rows": null,
      "grid_column": null,
      "grid_gap": null,
      "grid_row": null,
      "grid_template_areas": null,
      "grid_template_columns": null,
      "grid_template_rows": null,
      "height": null,
      "justify_content": null,
      "justify_items": null,
      "left": null,
      "margin": null,
      "max_height": null,
      "max_width": null,
      "min_height": null,
      "min_width": null,
      "object_fit": null,
      "object_position": null,
      "order": null,
      "overflow": null,
      "overflow_x": null,
      "overflow_y": null,
      "padding": null,
      "right": null,
      "top": null,
      "visibility": null,
      "width": null
     }
    },
    "403be929e9024411a153c32a8d9e7faa": {
     "model_module": "@jupyter-widgets/controls",
     "model_module_version": "1.5.0",
     "model_name": "HBoxModel",
     "state": {
      "_dom_classes": [],
      "_model_module": "@jupyter-widgets/controls",
      "_model_module_version": "1.5.0",
      "_model_name": "HBoxModel",
      "_view_count": null,
      "_view_module": "@jupyter-widgets/controls",
      "_view_module_version": "1.5.0",
      "_view_name": "HBoxView",
      "box_style": "",
      "children": [
       "IPY_MODEL_40bc4ccbe60443ce98c9d1abd0dcfea7",
       "IPY_MODEL_a943481bd0e543e98336d234af4dd764",
       "IPY_MODEL_7ebc9447af7a4dd4aaadb32491bb47eb"
      ],
      "layout": "IPY_MODEL_3fc0ac74e6574800a761e017f6a096a6"
     }
    },
    "40bc4ccbe60443ce98c9d1abd0dcfea7": {
     "model_module": "@jupyter-widgets/controls",
     "model_module_version": "1.5.0",
     "model_name": "HTMLModel",
     "state": {
      "_dom_classes": [],
      "_model_module": "@jupyter-widgets/controls",
      "_model_module_version": "1.5.0",
      "_model_name": "HTMLModel",
      "_view_count": null,
      "_view_module": "@jupyter-widgets/controls",
      "_view_module_version": "1.5.0",
      "_view_name": "HTMLView",
      "description": "",
      "description_tooltip": null,
      "layout": "IPY_MODEL_90b50d41596f42e2b5d347f349746c67",
      "placeholder": "​",
      "style": "IPY_MODEL_b793841591f84ba2a70a8d592216e5bd",
      "value": "Dl Completed...: 100%"
     }
    },
    "7ebc9447af7a4dd4aaadb32491bb47eb": {
     "model_module": "@jupyter-widgets/controls",
     "model_module_version": "1.5.0",
     "model_name": "HTMLModel",
     "state": {
      "_dom_classes": [],
      "_model_module": "@jupyter-widgets/controls",
      "_model_module_version": "1.5.0",
      "_model_name": "HTMLModel",
      "_view_count": null,
      "_view_module": "@jupyter-widgets/controls",
      "_view_module_version": "1.5.0",
      "_view_name": "HTMLView",
      "description": "",
      "description_tooltip": null,
      "layout": "IPY_MODEL_ade6bef4ba3b42f2af4cf92b536cae6b",
      "placeholder": "​",
      "style": "IPY_MODEL_38022535a8ae4875ad8cb2ae43189284",
      "value": " 4/4 [00:00&lt;00:00,  5.65 file/s]"
     }
    },
    "90b50d41596f42e2b5d347f349746c67": {
     "model_module": "@jupyter-widgets/base",
     "model_module_version": "1.2.0",
     "model_name": "LayoutModel",
     "state": {
      "_model_module": "@jupyter-widgets/base",
      "_model_module_version": "1.2.0",
      "_model_name": "LayoutModel",
      "_view_count": null,
      "_view_module": "@jupyter-widgets/base",
      "_view_module_version": "1.2.0",
      "_view_name": "LayoutView",
      "align_content": null,
      "align_items": null,
      "align_self": null,
      "border": null,
      "bottom": null,
      "display": null,
      "flex": null,
      "flex_flow": null,
      "grid_area": null,
      "grid_auto_columns": null,
      "grid_auto_flow": null,
      "grid_auto_rows": null,
      "grid_column": null,
      "grid_gap": null,
      "grid_row": null,
      "grid_template_areas": null,
      "grid_template_columns": null,
      "grid_template_rows": null,
      "height": null,
      "justify_content": null,
      "justify_items": null,
      "left": null,
      "margin": null,
      "max_height": null,
      "max_width": null,
      "min_height": null,
      "min_width": null,
      "object_fit": null,
      "object_position": null,
      "order": null,
      "overflow": null,
      "overflow_x": null,
      "overflow_y": null,
      "padding": null,
      "right": null,
      "top": null,
      "visibility": null,
      "width": null
     }
    },
    "9855b4675bcc4a0b93606d95022ebca2": {
     "model_module": "@jupyter-widgets/base",
     "model_module_version": "1.2.0",
     "model_name": "LayoutModel",
     "state": {
      "_model_module": "@jupyter-widgets/base",
      "_model_module_version": "1.2.0",
      "_model_name": "LayoutModel",
      "_view_count": null,
      "_view_module": "@jupyter-widgets/base",
      "_view_module_version": "1.2.0",
      "_view_name": "LayoutView",
      "align_content": null,
      "align_items": null,
      "align_self": null,
      "border": null,
      "bottom": null,
      "display": null,
      "flex": null,
      "flex_flow": null,
      "grid_area": null,
      "grid_auto_columns": null,
      "grid_auto_flow": null,
      "grid_auto_rows": null,
      "grid_column": null,
      "grid_gap": null,
      "grid_row": null,
      "grid_template_areas": null,
      "grid_template_columns": null,
      "grid_template_rows": null,
      "height": null,
      "justify_content": null,
      "justify_items": null,
      "left": null,
      "margin": null,
      "max_height": null,
      "max_width": null,
      "min_height": null,
      "min_width": null,
      "object_fit": null,
      "object_position": null,
      "order": null,
      "overflow": null,
      "overflow_x": null,
      "overflow_y": null,
      "padding": null,
      "right": null,
      "top": null,
      "visibility": null,
      "width": null
     }
    },
    "a943481bd0e543e98336d234af4dd764": {
     "model_module": "@jupyter-widgets/controls",
     "model_module_version": "1.5.0",
     "model_name": "FloatProgressModel",
     "state": {
      "_dom_classes": [],
      "_model_module": "@jupyter-widgets/controls",
      "_model_module_version": "1.5.0",
      "_model_name": "FloatProgressModel",
      "_view_count": null,
      "_view_module": "@jupyter-widgets/controls",
      "_view_module_version": "1.5.0",
      "_view_name": "ProgressView",
      "bar_style": "success",
      "description": "",
      "description_tooltip": null,
      "layout": "IPY_MODEL_9855b4675bcc4a0b93606d95022ebca2",
      "max": 4,
      "min": 0,
      "orientation": "horizontal",
      "style": "IPY_MODEL_25012ac4cf7441f693687fa97e861e7f",
      "value": 4
     }
    },
    "ade6bef4ba3b42f2af4cf92b536cae6b": {
     "model_module": "@jupyter-widgets/base",
     "model_module_version": "1.2.0",
     "model_name": "LayoutModel",
     "state": {
      "_model_module": "@jupyter-widgets/base",
      "_model_module_version": "1.2.0",
      "_model_name": "LayoutModel",
      "_view_count": null,
      "_view_module": "@jupyter-widgets/base",
      "_view_module_version": "1.2.0",
      "_view_name": "LayoutView",
      "align_content": null,
      "align_items": null,
      "align_self": null,
      "border": null,
      "bottom": null,
      "display": null,
      "flex": null,
      "flex_flow": null,
      "grid_area": null,
      "grid_auto_columns": null,
      "grid_auto_flow": null,
      "grid_auto_rows": null,
      "grid_column": null,
      "grid_gap": null,
      "grid_row": null,
      "grid_template_areas": null,
      "grid_template_columns": null,
      "grid_template_rows": null,
      "height": null,
      "justify_content": null,
      "justify_items": null,
      "left": null,
      "margin": null,
      "max_height": null,
      "max_width": null,
      "min_height": null,
      "min_width": null,
      "object_fit": null,
      "object_position": null,
      "order": null,
      "overflow": null,
      "overflow_x": null,
      "overflow_y": null,
      "padding": null,
      "right": null,
      "top": null,
      "visibility": null,
      "width": null
     }
    },
    "b793841591f84ba2a70a8d592216e5bd": {
     "model_module": "@jupyter-widgets/controls",
     "model_module_version": "1.5.0",
     "model_name": "DescriptionStyleModel",
     "state": {
      "_model_module": "@jupyter-widgets/controls",
      "_model_module_version": "1.5.0",
      "_model_name": "DescriptionStyleModel",
      "_view_count": null,
      "_view_module": "@jupyter-widgets/base",
      "_view_module_version": "1.2.0",
      "_view_name": "StyleView",
      "description_width": ""
     }
    }
   }
  }
 },
 "nbformat": 4,
 "nbformat_minor": 1
}
